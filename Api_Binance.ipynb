{
  "nbformat": 4,
  "nbformat_minor": 0,
  "metadata": {
    "colab": {
      "provenance": [],
      "collapsed_sections": [],
      "authorship_tag": "ABX9TyMcNJkvlSFP8GWeSPCXXqus",
      "include_colab_link": true
    },
    "kernelspec": {
      "name": "python3",
      "display_name": "Python 3"
    },
    "language_info": {
      "name": "python"
    }
  },
  "cells": [
    {
      "cell_type": "markdown",
      "metadata": {
        "id": "view-in-github",
        "colab_type": "text"
      },
      "source": [
        "<a href=\"https://colab.research.google.com/github/AaronSanchezBelber/Capstone_Repository/blob/master/Api_Binance.ipynb\" target=\"_parent\"><img src=\"https://colab.research.google.com/assets/colab-badge.svg\" alt=\"Open In Colab\"/></a>"
      ]
    },
    {
      "cell_type": "markdown",
      "source": [
        "**1) OBTENCIÓN DE LOS DATOS. Es necesario obtener datos en tiempo real?**"
      ],
      "metadata": {
        "id": "Q5Asjv_O8n5b"
      }
    },
    {
      "cell_type": "markdown",
      "source": [],
      "metadata": {
        "id": "geIf101x8n3S"
      }
    },
    {
      "cell_type": "markdown",
      "source": [
        "**2) GENERAR ESTRATEGIAS. Donde podemos implementar los algoritmos de ML? Necesitamos un enfoque**"
      ],
      "metadata": {
        "id": "DKKejOfs8n0i"
      }
    },
    {
      "cell_type": "code",
      "source": [],
      "metadata": {
        "id": "zo4NGjjtXar0"
      },
      "execution_count": null,
      "outputs": []
    },
    {
      "cell_type": "markdown",
      "source": [
        "**3)APLICAR UN BOT DE INVERSIÓN A UNA PLATAFORMA DE TRADING?. Propuesta Metatrader 5**"
      ],
      "metadata": {
        "id": "5xzXPDmx9QVR"
      }
    },
    {
      "cell_type": "code",
      "source": [],
      "metadata": {
        "id": "n_aSErZi9cDB"
      },
      "execution_count": null,
      "outputs": []
    },
    {
      "cell_type": "code",
      "source": [
        "#Curva de profitability del ACO. 1-2años. Sacar conclusiones. Patrón?. Qué sucede ese primer día?. Qué factor tienen, corr(), entre los tipos de interés y las cryptos?. Liquidaciones. Que pasa con los apacalancamientos(una forma de trading)\n",
        "#Qué beneficio esperado hay?. Hacer un bot que encuentre esas situaciones. AVE, otra estategía(acalancamiento). ccxt. 1m-ms. 1h-1m 1D-1m. Patrones definidos? sacar las ico de binance, ej:100primeras. Perfomance contra el bitcoin(comparar el bitcoin con la ico que salga)\n",
        "#Mirar el retorno(F()) de la inversión para cada ICO 1,5,1h,1d,1m,3m,5m. Calcular el retorno del bitcoin. Comparalos. \n",
        "#Invertir en ICOs, si o no?. Si invierto en ICOs cuando vendo?\n",
        "#Nivel rentabilidad riesgo. \n",
        "#CLustering, rentabiliad. precio. volumen total de precio. \n",
        "#No es necesario el tiempo real\n",
        "#Empezar de manera sencilla y luego sofisticar la estrategia\n",
        "#Buscar estudio de rentabilidades IPO\n",
        "#https://www.epochconverter.com/. (1667527140000 esto es una fecha)"
      ],
      "metadata": {
        "id": "x-4d5cxrDvoU"
      },
      "execution_count": 1,
      "outputs": []
    },
    {
      "cell_type": "markdown",
      "source": [
        "**PROYECTO CAPSTONE: CRYPTO BOT DE TRADING**\n",
        "\n",
        "\n",
        "\n"
      ],
      "metadata": {
        "id": "QHO1gdKyXeNW"
      }
    },
    {
      "cell_type": "markdown",
      "source": [
        "0) OBTENCIÓN DE DATOS: USAREMOS LA API DE BINANCE PARA OBTENER LOS DATOS\n"
      ],
      "metadata": {
        "id": "WGzKLlKBX5bM"
      }
    },
    {
      "cell_type": "code",
      "execution_count": 2,
      "metadata": {
        "colab": {
          "base_uri": "https://localhost:8080/"
        },
        "id": "FmatZ23HW3G5",
        "outputId": "aa6f0260-b12b-4f98-8dd7-e8e666dd819a"
      },
      "outputs": [
        {
          "output_type": "stream",
          "name": "stdout",
          "text": [
            "Looking in indexes: https://pypi.org/simple, https://us-python.pkg.dev/colab-wheels/public/simple/\n",
            "Collecting python-binance\n",
            "  Downloading python_binance-1.0.16-py2.py3-none-any.whl (65 kB)\n",
            "\u001b[K     |████████████████████████████████| 65 kB 798 kB/s \n",
            "\u001b[?25hCollecting mplfinance\n",
            "  Downloading mplfinance-0.12.9b5-py3-none-any.whl (71 kB)\n",
            "\u001b[K     |████████████████████████████████| 71 kB 3.5 MB/s \n",
            "\u001b[?25hRequirement already satisfied: six in /usr/local/lib/python3.7/dist-packages (from python-binance) (1.15.0)\n",
            "Requirement already satisfied: aiohttp in /usr/local/lib/python3.7/dist-packages (from python-binance) (3.8.3)\n",
            "Collecting ujson\n",
            "  Downloading ujson-5.5.0-cp37-cp37m-manylinux_2_17_x86_64.manylinux2014_x86_64.whl (45 kB)\n",
            "\u001b[K     |████████████████████████████████| 45 kB 979 kB/s \n",
            "\u001b[?25hCollecting dateparser\n",
            "  Downloading dateparser-1.1.3-py2.py3-none-any.whl (292 kB)\n",
            "\u001b[K     |████████████████████████████████| 292 kB 46.7 MB/s \n",
            "\u001b[?25hRequirement already satisfied: requests in /usr/local/lib/python3.7/dist-packages (from python-binance) (2.23.0)\n",
            "Collecting websockets\n",
            "  Downloading websockets-10.4-cp37-cp37m-manylinux_2_5_x86_64.manylinux1_x86_64.manylinux_2_17_x86_64.manylinux2014_x86_64.whl (106 kB)\n",
            "\u001b[K     |████████████████████████████████| 106 kB 18.0 MB/s \n",
            "\u001b[?25hRequirement already satisfied: pandas in /usr/local/lib/python3.7/dist-packages (from mplfinance) (1.3.5)\n",
            "Requirement already satisfied: matplotlib in /usr/local/lib/python3.7/dist-packages (from mplfinance) (3.2.2)\n",
            "Requirement already satisfied: frozenlist>=1.1.1 in /usr/local/lib/python3.7/dist-packages (from aiohttp->python-binance) (1.3.1)\n",
            "Requirement already satisfied: async-timeout<5.0,>=4.0.0a3 in /usr/local/lib/python3.7/dist-packages (from aiohttp->python-binance) (4.0.2)\n",
            "Requirement already satisfied: charset-normalizer<3.0,>=2.0 in /usr/local/lib/python3.7/dist-packages (from aiohttp->python-binance) (2.1.1)\n",
            "Requirement already satisfied: multidict<7.0,>=4.5 in /usr/local/lib/python3.7/dist-packages (from aiohttp->python-binance) (6.0.2)\n",
            "Requirement already satisfied: yarl<2.0,>=1.0 in /usr/local/lib/python3.7/dist-packages (from aiohttp->python-binance) (1.8.1)\n",
            "Requirement already satisfied: attrs>=17.3.0 in /usr/local/lib/python3.7/dist-packages (from aiohttp->python-binance) (22.1.0)\n",
            "Requirement already satisfied: typing-extensions>=3.7.4 in /usr/local/lib/python3.7/dist-packages (from aiohttp->python-binance) (4.1.1)\n",
            "Requirement already satisfied: aiosignal>=1.1.2 in /usr/local/lib/python3.7/dist-packages (from aiohttp->python-binance) (1.2.0)\n",
            "Requirement already satisfied: asynctest==0.13.0 in /usr/local/lib/python3.7/dist-packages (from aiohttp->python-binance) (0.13.0)\n",
            "Requirement already satisfied: idna>=2.0 in /usr/local/lib/python3.7/dist-packages (from yarl<2.0,>=1.0->aiohttp->python-binance) (2.10)\n",
            "Requirement already satisfied: tzlocal in /usr/local/lib/python3.7/dist-packages (from dateparser->python-binance) (1.5.1)\n",
            "Requirement already satisfied: pytz in /usr/local/lib/python3.7/dist-packages (from dateparser->python-binance) (2022.5)\n",
            "Collecting regex!=2019.02.19,!=2021.8.27,<2022.3.15\n",
            "  Downloading regex-2022.3.2-cp37-cp37m-manylinux_2_17_x86_64.manylinux2014_x86_64.whl (749 kB)\n",
            "\u001b[K     |████████████████████████████████| 749 kB 37.2 MB/s \n",
            "\u001b[?25hRequirement already satisfied: python-dateutil in /usr/local/lib/python3.7/dist-packages (from dateparser->python-binance) (2.8.2)\n",
            "Requirement already satisfied: cycler>=0.10 in /usr/local/lib/python3.7/dist-packages (from matplotlib->mplfinance) (0.11.0)\n",
            "Requirement already satisfied: numpy>=1.11 in /usr/local/lib/python3.7/dist-packages (from matplotlib->mplfinance) (1.21.6)\n",
            "Requirement already satisfied: pyparsing!=2.0.4,!=2.1.2,!=2.1.6,>=2.0.1 in /usr/local/lib/python3.7/dist-packages (from matplotlib->mplfinance) (3.0.9)\n",
            "Requirement already satisfied: kiwisolver>=1.0.1 in /usr/local/lib/python3.7/dist-packages (from matplotlib->mplfinance) (1.4.4)\n",
            "Requirement already satisfied: chardet<4,>=3.0.2 in /usr/local/lib/python3.7/dist-packages (from requests->python-binance) (3.0.4)\n",
            "Requirement already satisfied: certifi>=2017.4.17 in /usr/local/lib/python3.7/dist-packages (from requests->python-binance) (2022.9.24)\n",
            "Requirement already satisfied: urllib3!=1.25.0,!=1.25.1,<1.26,>=1.21.1 in /usr/local/lib/python3.7/dist-packages (from requests->python-binance) (1.24.3)\n",
            "Installing collected packages: regex, websockets, ujson, dateparser, python-binance, mplfinance\n",
            "  Attempting uninstall: regex\n",
            "    Found existing installation: regex 2022.6.2\n",
            "    Uninstalling regex-2022.6.2:\n",
            "      Successfully uninstalled regex-2022.6.2\n",
            "Successfully installed dateparser-1.1.3 mplfinance-0.12.9b5 python-binance-1.0.16 regex-2022.3.2 ujson-5.5.0 websockets-10.4\n"
          ]
        }
      ],
      "source": [
        "#Comenzamos instalando python/binance\n",
        "!pip install python-binance mplfinance"
      ]
    },
    {
      "cell_type": "code",
      "source": [
        "#importamos las librerias necesarias\n",
        "import pandas as pd                           #esta libreria nos servira para manipular y visualizar datos\n",
        "import os                                     #nos permite crear una variable una variable oculta\n",
        "\n",
        "from binance import Client                    #Software que recoge informacion de un servidor (En nuestro caso necesita unas credenciales)\n",
        "from binance import ThreadedWebsocketManager ##Refresca necesita el package sleep\n",
        "from time import sleep                        #Se utiliza con ThreadedWeb... pero no sabemos darle uso\n",
        "from binance import BinanceSocketManager     ##Refresca\n",
        "from binance import ThreadedDepthCacheManager ##???"
      ],
      "metadata": {
        "id": "SbSq9hPkW7lX"
      },
      "execution_count": 3,
      "outputs": []
    },
    {
      "cell_type": "code",
      "source": [
        "#Guardamos nuestras credenciales como variables ocultas mediante os\n",
        "os.environ['binance_api'] = 'OI0aiCyAYktPpILpNh5nJSVmtygqNnXMXcBVjSrI9lx8MkMv1c5WwruIBhGw5jia'      #Utilizamos estas credentials tipo test\n",
        "os.environ['binance_secret'] =  'A7AAsjWJ9tt8C1HBjISWbFdynvNgwLNHoSnJaUog1C7bYngaAr1tDRyG2jPXuWFP'  #Cuidado manten secretas"
      ],
      "metadata": {
        "id": "4lkZ7AyDW7ie"
      },
      "execution_count": 4,
      "outputs": []
    },
    {
      "cell_type": "code",
      "source": [
        "#Ahora asignamos nuestra variable oculta a una variable\n",
        "apikey = os.environ['binance_api'] \n",
        "secret = os.environ['binance_secret']"
      ],
      "metadata": {
        "id": "IMUarJNfW7gN"
      },
      "execution_count": 5,
      "outputs": []
    },
    {
      "cell_type": "code",
      "source": [
        "#Utilizo las claves de Ivar, ya que tengo restricciones xon las anteriores\n",
        "ivar_api = 'emZw0cRFRM8RfXtJ8iyVw5b5h5b1MOfmqzcIhtPTTbYumx3WxSvEoJLUM8wMMIhV'\n",
        "ivar_secret = 'uGwleBRfoxE8kz3Q4KNNYIm8UxM7zfLWYwqDee8R862I8RnbkUKBSpV7Q1D0SiXU'"
      ],
      "metadata": {
        "id": "SzY5RefhaeuF"
      },
      "execution_count": 6,
      "outputs": []
    },
    {
      "cell_type": "code",
      "source": [
        "#Añadimos la funcion clientes junto a sus credenciales, para poder acceder a API\n",
        "client = Client(ivar_api, ivar_secret)"
      ],
      "metadata": {
        "id": "Pon36BbCW7Y3"
      },
      "execution_count": 7,
      "outputs": []
    },
    {
      "cell_type": "markdown",
      "source": [
        "0.1) OBTENCIÓN DE DATOS, MANIPULACIÓN Y VISUALIZACIÓN DE DATOS"
      ],
      "metadata": {
        "id": "mSxgWecgYWTI"
      }
    },
    {
      "cell_type": "code",
      "source": [
        "#Todas las criptos disponibles en Binance, en DataFrame\n",
        "tickers = client.get_all_tickers()\n",
        "tickers_df = pd.DataFrame(tickers)\n",
        "tickers_df"
      ],
      "metadata": {
        "colab": {
          "base_uri": "https://localhost:8080/",
          "height": 424
        },
        "id": "FjWhZ4_EW7Wi",
        "outputId": "5f8e23a4-ab10-4088-cbf3-04d2cc2c2ec0"
      },
      "execution_count": 8,
      "outputs": [
        {
          "output_type": "execute_result",
          "data": {
            "text/plain": [
              "        symbol        price\n",
              "0       ETHBTC   0.07700300\n",
              "1       LTCBTC   0.00329800\n",
              "2       BNBBTC   0.01663200\n",
              "3       NEOBTC   0.00042700\n",
              "4      QTUMETH   0.00184400\n",
              "...        ...          ...\n",
              "2118    APTBRL  38.21000000\n",
              "2119   QKCBUSD   0.01156000\n",
              "2120   OSMOBTC   0.00007695\n",
              "2121  OSMOUSDT   1.63400000\n",
              "2122  OSMOBUSD   1.63700000\n",
              "\n",
              "[2123 rows x 2 columns]"
            ],
            "text/html": [
              "\n",
              "  <div id=\"df-e694e8e7-e531-49a2-bbfd-d7316d66b869\">\n",
              "    <div class=\"colab-df-container\">\n",
              "      <div>\n",
              "<style scoped>\n",
              "    .dataframe tbody tr th:only-of-type {\n",
              "        vertical-align: middle;\n",
              "    }\n",
              "\n",
              "    .dataframe tbody tr th {\n",
              "        vertical-align: top;\n",
              "    }\n",
              "\n",
              "    .dataframe thead th {\n",
              "        text-align: right;\n",
              "    }\n",
              "</style>\n",
              "<table border=\"1\" class=\"dataframe\">\n",
              "  <thead>\n",
              "    <tr style=\"text-align: right;\">\n",
              "      <th></th>\n",
              "      <th>symbol</th>\n",
              "      <th>price</th>\n",
              "    </tr>\n",
              "  </thead>\n",
              "  <tbody>\n",
              "    <tr>\n",
              "      <th>0</th>\n",
              "      <td>ETHBTC</td>\n",
              "      <td>0.07700300</td>\n",
              "    </tr>\n",
              "    <tr>\n",
              "      <th>1</th>\n",
              "      <td>LTCBTC</td>\n",
              "      <td>0.00329800</td>\n",
              "    </tr>\n",
              "    <tr>\n",
              "      <th>2</th>\n",
              "      <td>BNBBTC</td>\n",
              "      <td>0.01663200</td>\n",
              "    </tr>\n",
              "    <tr>\n",
              "      <th>3</th>\n",
              "      <td>NEOBTC</td>\n",
              "      <td>0.00042700</td>\n",
              "    </tr>\n",
              "    <tr>\n",
              "      <th>4</th>\n",
              "      <td>QTUMETH</td>\n",
              "      <td>0.00184400</td>\n",
              "    </tr>\n",
              "    <tr>\n",
              "      <th>...</th>\n",
              "      <td>...</td>\n",
              "      <td>...</td>\n",
              "    </tr>\n",
              "    <tr>\n",
              "      <th>2118</th>\n",
              "      <td>APTBRL</td>\n",
              "      <td>38.21000000</td>\n",
              "    </tr>\n",
              "    <tr>\n",
              "      <th>2119</th>\n",
              "      <td>QKCBUSD</td>\n",
              "      <td>0.01156000</td>\n",
              "    </tr>\n",
              "    <tr>\n",
              "      <th>2120</th>\n",
              "      <td>OSMOBTC</td>\n",
              "      <td>0.00007695</td>\n",
              "    </tr>\n",
              "    <tr>\n",
              "      <th>2121</th>\n",
              "      <td>OSMOUSDT</td>\n",
              "      <td>1.63400000</td>\n",
              "    </tr>\n",
              "    <tr>\n",
              "      <th>2122</th>\n",
              "      <td>OSMOBUSD</td>\n",
              "      <td>1.63700000</td>\n",
              "    </tr>\n",
              "  </tbody>\n",
              "</table>\n",
              "<p>2123 rows × 2 columns</p>\n",
              "</div>\n",
              "      <button class=\"colab-df-convert\" onclick=\"convertToInteractive('df-e694e8e7-e531-49a2-bbfd-d7316d66b869')\"\n",
              "              title=\"Convert this dataframe to an interactive table.\"\n",
              "              style=\"display:none;\">\n",
              "        \n",
              "  <svg xmlns=\"http://www.w3.org/2000/svg\" height=\"24px\"viewBox=\"0 0 24 24\"\n",
              "       width=\"24px\">\n",
              "    <path d=\"M0 0h24v24H0V0z\" fill=\"none\"/>\n",
              "    <path d=\"M18.56 5.44l.94 2.06.94-2.06 2.06-.94-2.06-.94-.94-2.06-.94 2.06-2.06.94zm-11 1L8.5 8.5l.94-2.06 2.06-.94-2.06-.94L8.5 2.5l-.94 2.06-2.06.94zm10 10l.94 2.06.94-2.06 2.06-.94-2.06-.94-.94-2.06-.94 2.06-2.06.94z\"/><path d=\"M17.41 7.96l-1.37-1.37c-.4-.4-.92-.59-1.43-.59-.52 0-1.04.2-1.43.59L10.3 9.45l-7.72 7.72c-.78.78-.78 2.05 0 2.83L4 21.41c.39.39.9.59 1.41.59.51 0 1.02-.2 1.41-.59l7.78-7.78 2.81-2.81c.8-.78.8-2.07 0-2.86zM5.41 20L4 18.59l7.72-7.72 1.47 1.35L5.41 20z\"/>\n",
              "  </svg>\n",
              "      </button>\n",
              "      \n",
              "  <style>\n",
              "    .colab-df-container {\n",
              "      display:flex;\n",
              "      flex-wrap:wrap;\n",
              "      gap: 12px;\n",
              "    }\n",
              "\n",
              "    .colab-df-convert {\n",
              "      background-color: #E8F0FE;\n",
              "      border: none;\n",
              "      border-radius: 50%;\n",
              "      cursor: pointer;\n",
              "      display: none;\n",
              "      fill: #1967D2;\n",
              "      height: 32px;\n",
              "      padding: 0 0 0 0;\n",
              "      width: 32px;\n",
              "    }\n",
              "\n",
              "    .colab-df-convert:hover {\n",
              "      background-color: #E2EBFA;\n",
              "      box-shadow: 0px 1px 2px rgba(60, 64, 67, 0.3), 0px 1px 3px 1px rgba(60, 64, 67, 0.15);\n",
              "      fill: #174EA6;\n",
              "    }\n",
              "\n",
              "    [theme=dark] .colab-df-convert {\n",
              "      background-color: #3B4455;\n",
              "      fill: #D2E3FC;\n",
              "    }\n",
              "\n",
              "    [theme=dark] .colab-df-convert:hover {\n",
              "      background-color: #434B5C;\n",
              "      box-shadow: 0px 1px 3px 1px rgba(0, 0, 0, 0.15);\n",
              "      filter: drop-shadow(0px 1px 2px rgba(0, 0, 0, 0.3));\n",
              "      fill: #FFFFFF;\n",
              "    }\n",
              "  </style>\n",
              "\n",
              "      <script>\n",
              "        const buttonEl =\n",
              "          document.querySelector('#df-e694e8e7-e531-49a2-bbfd-d7316d66b869 button.colab-df-convert');\n",
              "        buttonEl.style.display =\n",
              "          google.colab.kernel.accessAllowed ? 'block' : 'none';\n",
              "\n",
              "        async function convertToInteractive(key) {\n",
              "          const element = document.querySelector('#df-e694e8e7-e531-49a2-bbfd-d7316d66b869');\n",
              "          const dataTable =\n",
              "            await google.colab.kernel.invokeFunction('convertToInteractive',\n",
              "                                                     [key], {});\n",
              "          if (!dataTable) return;\n",
              "\n",
              "          const docLinkHtml = 'Like what you see? Visit the ' +\n",
              "            '<a target=\"_blank\" href=https://colab.research.google.com/notebooks/data_table.ipynb>data table notebook</a>'\n",
              "            + ' to learn more about interactive tables.';\n",
              "          element.innerHTML = '';\n",
              "          dataTable['output_type'] = 'display_data';\n",
              "          await google.colab.output.renderOutput(dataTable, element);\n",
              "          const docLink = document.createElement('div');\n",
              "          docLink.innerHTML = docLinkHtml;\n",
              "          element.appendChild(docLink);\n",
              "        }\n",
              "      </script>\n",
              "    </div>\n",
              "  </div>\n",
              "  "
            ]
          },
          "metadata": {},
          "execution_count": 8
        }
      ]
    },
    {
      "cell_type": "markdown",
      "source": [
        "0.1) OBTENCIÓN DE DATOS: USAMOS WEBSOCKET PARA OBTENER DATOS EN TIEMPO REAL"
      ],
      "metadata": {
        "id": "Cl4JqRA5vP5p"
      }
    },
    {
      "cell_type": "code",
      "source": [
        "#https://pypi.org/project/websocket-client/ #Para saber usar websocket\n",
        "#https://github.com/binance/binance-spot-api-docs/blob/master/web-socket-streams.md #Datos en tiempo real disponibles"
      ],
      "metadata": {
        "id": "QruikSphvOE6"
      },
      "execution_count": 9,
      "outputs": []
    },
    {
      "cell_type": "code",
      "source": [
        "!pip install websocket\n",
        "!pip install websocket-client\n",
        "import websocket, json\n"
      ],
      "metadata": {
        "colab": {
          "base_uri": "https://localhost:8080/"
        },
        "id": "sJWG9QBbW7Ty",
        "outputId": "30b88203-42fa-4a26-9fe3-7a5cfcba5280"
      },
      "execution_count": 10,
      "outputs": [
        {
          "output_type": "stream",
          "name": "stdout",
          "text": [
            "Looking in indexes: https://pypi.org/simple, https://us-python.pkg.dev/colab-wheels/public/simple/\n",
            "Collecting websocket\n",
            "  Downloading websocket-0.2.1.tar.gz (195 kB)\n",
            "\u001b[K     |████████████████████████████████| 195 kB 14.4 MB/s \n",
            "\u001b[?25hCollecting gevent\n",
            "  Downloading gevent-22.10.2-cp37-cp37m-manylinux_2_17_x86_64.manylinux2014_x86_64.whl (6.0 MB)\n",
            "\u001b[K     |████████████████████████████████| 6.0 MB 66.4 MB/s \n",
            "\u001b[?25hRequirement already satisfied: greenlet in /usr/local/lib/python3.7/dist-packages (from websocket) (1.1.3.post0)\n",
            "Requirement already satisfied: setuptools in /usr/local/lib/python3.7/dist-packages (from gevent->websocket) (57.4.0)\n",
            "Collecting zope.event\n",
            "  Downloading zope.event-4.5.0-py2.py3-none-any.whl (6.8 kB)\n",
            "Collecting greenlet\n",
            "  Downloading greenlet-2.0.0.post0-cp37-cp37m-manylinux_2_17_x86_64.manylinux2014_x86_64.whl (511 kB)\n",
            "\u001b[K     |████████████████████████████████| 511 kB 59.0 MB/s \n",
            "\u001b[?25hCollecting zope.interface\n",
            "  Downloading zope.interface-5.5.1-cp37-cp37m-manylinux_2_5_x86_64.manylinux1_x86_64.manylinux_2_12_x86_64.manylinux2010_x86_64.whl (254 kB)\n",
            "\u001b[K     |████████████████████████████████| 254 kB 44.5 MB/s \n",
            "\u001b[?25hBuilding wheels for collected packages: websocket\n",
            "  Building wheel for websocket (setup.py) ... \u001b[?25l\u001b[?25hdone\n",
            "  Created wheel for websocket: filename=websocket-0.2.1-py3-none-any.whl size=192135 sha256=620d8af9ea7b38574f6f19159fdf73db102d2e2aee39ced3956006026cb607fb\n",
            "  Stored in directory: /root/.cache/pip/wheels/e2/9b/2b/6324f465ec5543e33a31c2692c01c1760173bbb98b37dbaee8\n",
            "Successfully built websocket\n",
            "Installing collected packages: zope.interface, zope.event, greenlet, gevent, websocket\n",
            "  Attempting uninstall: greenlet\n",
            "    Found existing installation: greenlet 1.1.3.post0\n",
            "    Uninstalling greenlet-1.1.3.post0:\n",
            "      Successfully uninstalled greenlet-1.1.3.post0\n",
            "Successfully installed gevent-22.10.2 greenlet-2.0.0.post0 websocket-0.2.1 zope.event-4.5.0 zope.interface-5.5.1\n",
            "Looking in indexes: https://pypi.org/simple, https://us-python.pkg.dev/colab-wheels/public/simple/\n",
            "Collecting websocket-client\n",
            "  Downloading websocket_client-1.4.2-py3-none-any.whl (55 kB)\n",
            "\u001b[K     |████████████████████████████████| 55 kB 2.7 MB/s \n",
            "\u001b[?25hInstalling collected packages: websocket-client\n",
            "Successfully installed websocket-client-1.4.2\n"
          ]
        }
      ]
    },
    {
      "cell_type": "code",
      "source": [
        "activo_btcusd = 'btcusd'\n",
        "interval_1m = '1m'"
      ],
      "metadata": {
        "id": "W6gksORcsGcA"
      },
      "execution_count": 11,
      "outputs": []
    },
    {
      "cell_type": "code",
      "source": [
        "#La url/socket para que funcione. Le estamos diciendo que nos pase velas japonesas cada segundo de bitcoin\n",
        "socket = f'wss://stream.binance.com:9443/ws/{activo_btcusd}/@kline_{interval_1m}'"
      ],
      "metadata": {
        "id": "VbEY1eDyW7RN"
      },
      "execution_count": 12,
      "outputs": []
    },
    {
      "cell_type": "code",
      "source": [
        "socket"
      ],
      "metadata": {
        "colab": {
          "base_uri": "https://localhost:8080/",
          "height": 35
        },
        "id": "tqnXge5XW7Lp",
        "outputId": "24cb3cd0-937b-4b34-ac77-e05c70d3971f"
      },
      "execution_count": 13,
      "outputs": [
        {
          "output_type": "execute_result",
          "data": {
            "text/plain": [
              "'wss://stream.binance.com:9443/ws/btcusd/@kline_1m'"
            ],
            "application/vnd.google.colaboratory.intrinsic+json": {
              "type": "string"
            }
          },
          "metadata": {},
          "execution_count": 13
        }
      ]
    },
    {
      "cell_type": "code",
      "source": [
        "#making candle sticks\n",
        "def on_message(ws, message):\n",
        "  json.message = json.loads(message)\n",
        "  candle = json_message['k']\n",
        "  is_candle_closed = candle['x']\n",
        "  close = candle['c']\n",
        "  high = candle['h']\n",
        "  low = candle['l']\n",
        "  vol = candle['v']\n",
        "\n",
        "  print(close)\n",
        "  print(high)\n",
        "  print(low)\n",
        "  print(vol)\n",
        "\n",
        "def on_close(ws):\n",
        "  print('Connection Closed')\n",
        "\n"
      ],
      "metadata": {
        "id": "fGUu04kVtUo8"
      },
      "execution_count": 14,
      "outputs": []
    },
    {
      "cell_type": "code",
      "source": [
        "#usamos ws para generar una funcion diciendole que queremos, para esto necesitamos que mensaje y que cierre queremos haciendo dos funciones previas\n",
        "ws = websocket.WebSocketApp(socket,on_message = on_message, on_close = on_close)"
      ],
      "metadata": {
        "id": "wbvq6oTPW7It"
      },
      "execution_count": 15,
      "outputs": []
    },
    {
      "cell_type": "code",
      "source": [
        "ws.run_forever()"
      ],
      "metadata": {
        "colab": {
          "base_uri": "https://localhost:8080/"
        },
        "id": "Xb9ywInAuGKZ",
        "outputId": "eec8c0aa-b700-4378-f624-a65c4827b8b9"
      },
      "execution_count": null,
      "outputs": [
        {
          "output_type": "stream",
          "name": "stderr",
          "text": [
            "WARNING:websocket:websocket connected\n"
          ]
        }
      ]
    },
    {
      "cell_type": "code",
      "source": [
        "import websocket\n",
        "import _thread\n",
        "import time\n",
        "\n",
        "def on_message(ws, message):\n",
        "    print(message)\n",
        "\n",
        "def on_error(ws, error):\n",
        "    print(error)\n",
        "\n",
        "def on_close(ws, close_status_code, close_msg):\n",
        "    print(\"### closed ###\")\n",
        "\n",
        "def on_open(ws):\n",
        "    print(\"Opened connection\")\n",
        "\n",
        "if __name__ == \"__main__\":\n",
        "    websocket.enableTrace(True)\n",
        "    ws = websocket.WebSocketApp(socket,\n",
        "                              on_open=on_open,\n",
        "                              on_message=on_message,\n",
        "                              on_error=on_error,\n",
        "                              on_close=on_close)\n",
        "\n",
        "  "
      ],
      "metadata": {
        "id": "CJHNwbLKuGIR"
      },
      "execution_count": null,
      "outputs": []
    },
    {
      "cell_type": "code",
      "source": [],
      "metadata": {
        "id": "VjKgLbShuGGJ"
      },
      "execution_count": null,
      "outputs": []
    },
    {
      "cell_type": "code",
      "source": [],
      "metadata": {
        "id": "cJgbKslLuGDZ"
      },
      "execution_count": null,
      "outputs": []
    }
  ]
}