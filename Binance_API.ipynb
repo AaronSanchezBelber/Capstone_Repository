{
  "nbformat": 4,
  "nbformat_minor": 0,
  "metadata": {
    "colab": {
      "provenance": [],
      "collapsed_sections": [],
      "authorship_tag": "ABX9TyMr231cp0VhYC9tPSJ5dzpl",
      "include_colab_link": true
    },
    "kernelspec": {
      "name": "python3",
      "display_name": "Python 3"
    },
    "language_info": {
      "name": "python"
    }
  },
  "cells": [
    {
      "cell_type": "markdown",
      "metadata": {
        "id": "view-in-github",
        "colab_type": "text"
      },
      "source": [
        "<a href=\"https://colab.research.google.com/github/AaronSanchezBelber/Capstone_Repository/blob/master/Binance_API.ipynb\" target=\"_parent\"><img src=\"https://colab.research.google.com/assets/colab-badge.svg\" alt=\"Open In Colab\"/></a>"
      ]
    },
    {
      "cell_type": "code",
      "execution_count": null,
      "metadata": {
        "colab": {
          "base_uri": "https://localhost:8080/"
        },
        "id": "gW0KmxafQ05O",
        "outputId": "890f79f0-56a6-4ba9-ed0c-38cd00e70a4a"
      },
      "outputs": [
        {
          "output_type": "stream",
          "name": "stdout",
          "text": [
            "Looking in indexes: https://pypi.org/simple, https://us-python.pkg.dev/colab-wheels/public/simple/\n",
            "Requirement already satisfied: python-binance in /usr/local/lib/python3.7/dist-packages (1.0.16)\n",
            "Requirement already satisfied: aiohttp in /usr/local/lib/python3.7/dist-packages (from python-binance) (3.8.3)\n",
            "Requirement already satisfied: six in /usr/local/lib/python3.7/dist-packages (from python-binance) (1.15.0)\n",
            "Requirement already satisfied: dateparser in /usr/local/lib/python3.7/dist-packages (from python-binance) (1.1.2)\n",
            "Requirement already satisfied: ujson in /usr/local/lib/python3.7/dist-packages (from python-binance) (5.5.0)\n",
            "Requirement already satisfied: websockets in /usr/local/lib/python3.7/dist-packages (from python-binance) (10.4)\n",
            "Requirement already satisfied: requests in /usr/local/lib/python3.7/dist-packages (from python-binance) (2.23.0)\n",
            "Requirement already satisfied: charset-normalizer<3.0,>=2.0 in /usr/local/lib/python3.7/dist-packages (from aiohttp->python-binance) (2.1.1)\n",
            "Requirement already satisfied: typing-extensions>=3.7.4 in /usr/local/lib/python3.7/dist-packages (from aiohttp->python-binance) (4.1.1)\n",
            "Requirement already satisfied: attrs>=17.3.0 in /usr/local/lib/python3.7/dist-packages (from aiohttp->python-binance) (22.1.0)\n",
            "Requirement already satisfied: frozenlist>=1.1.1 in /usr/local/lib/python3.7/dist-packages (from aiohttp->python-binance) (1.3.1)\n",
            "Requirement already satisfied: multidict<7.0,>=4.5 in /usr/local/lib/python3.7/dist-packages (from aiohttp->python-binance) (6.0.2)\n",
            "Requirement already satisfied: asynctest==0.13.0 in /usr/local/lib/python3.7/dist-packages (from aiohttp->python-binance) (0.13.0)\n",
            "Requirement already satisfied: yarl<2.0,>=1.0 in /usr/local/lib/python3.7/dist-packages (from aiohttp->python-binance) (1.8.1)\n",
            "Requirement already satisfied: aiosignal>=1.1.2 in /usr/local/lib/python3.7/dist-packages (from aiohttp->python-binance) (1.2.0)\n",
            "Requirement already satisfied: async-timeout<5.0,>=4.0.0a3 in /usr/local/lib/python3.7/dist-packages (from aiohttp->python-binance) (4.0.2)\n",
            "Requirement already satisfied: idna>=2.0 in /usr/local/lib/python3.7/dist-packages (from yarl<2.0,>=1.0->aiohttp->python-binance) (2.10)\n",
            "Requirement already satisfied: tzlocal in /usr/local/lib/python3.7/dist-packages (from dateparser->python-binance) (1.5.1)\n",
            "Requirement already satisfied: python-dateutil in /usr/local/lib/python3.7/dist-packages (from dateparser->python-binance) (2.8.2)\n",
            "Requirement already satisfied: pytz in /usr/local/lib/python3.7/dist-packages (from dateparser->python-binance) (2022.5)\n",
            "Requirement already satisfied: regex!=2019.02.19,!=2021.8.27,<2022.3.15 in /usr/local/lib/python3.7/dist-packages (from dateparser->python-binance) (2022.3.2)\n",
            "Requirement already satisfied: urllib3!=1.25.0,!=1.25.1,<1.26,>=1.21.1 in /usr/local/lib/python3.7/dist-packages (from requests->python-binance) (1.24.3)\n",
            "Requirement already satisfied: certifi>=2017.4.17 in /usr/local/lib/python3.7/dist-packages (from requests->python-binance) (2022.9.24)\n",
            "Requirement already satisfied: chardet<4,>=3.0.2 in /usr/local/lib/python3.7/dist-packages (from requests->python-binance) (3.0.4)\n"
          ]
        }
      ],
      "source": [
        "pip install python-binance"
      ]
    },
    {
      "cell_type": "code",
      "source": [
        "import os "
      ],
      "metadata": {
        "id": "oNwnhCHWWEMo"
      },
      "execution_count": null,
      "outputs": []
    },
    {
      "cell_type": "code",
      "source": [
        "os.environ['binance_api'] = 'OI0aiCyAYktPpILpNh5nJSVmtygqNnXMXcBVjSrI9lx8MkMv1c5WwruIBhGw5jia'\n",
        "os.environ['binance_secret'] =  'A7AAsjWJ9tt8C1HBjISWbFdynvNgwLNHoSnJaUog1C7bYngaAr1tDRyG2jPXuWFP'"
      ],
      "metadata": {
        "id": "GD-vjzOAWGWk"
      },
      "execution_count": null,
      "outputs": []
    },
    {
      "cell_type": "code",
      "source": [
        "from binance.client import Client\n",
        "api_key = os.environ.get('binance_api')\n",
        "api_secret = os.environ.get('binance_secret')"
      ],
      "metadata": {
        "id": "TcyPckTbSG5O"
      },
      "execution_count": null,
      "outputs": []
    },
    {
      "cell_type": "code",
      "source": [
        "client = Client(api_key, api_secret)"
      ],
      "metadata": {
        "id": "j6w4GyXEXZyf"
      },
      "execution_count": null,
      "outputs": []
    },
    {
      "cell_type": "code",
      "source": [
        "'''Unfortunately, the python-binance library does not have support for the demo environment previously discussed.\n",
        " However, we were able to connect by manually changing the API endpoint URL in the library like this:'''"
      ],
      "metadata": {
        "colab": {
          "base_uri": "https://localhost:8080/",
          "height": 72
        },
        "id": "SBhIyS8xXmCt",
        "outputId": "3f0ac4f1-129d-448c-a631-7f5e9d47fe8d"
      },
      "execution_count": null,
      "outputs": [
        {
          "output_type": "execute_result",
          "data": {
            "text/plain": [
              "'Unfortunately, the python-binance library does not have support for the demo environment previously discussed.\\n However, we were able to connect by manually changing the API endpoint URL in the library like this:'"
            ],
            "application/vnd.google.colaboratory.intrinsic+json": {
              "type": "string"
            }
          },
          "metadata": {},
          "execution_count": 43
        }
      ]
    },
    {
      "cell_type": "code",
      "source": [
        "client.API_URL = 'https://testnet.binance.vision/api'"
      ],
      "metadata": {
        "id": "r_JMoYNIXcLi"
      },
      "execution_count": null,
      "outputs": []
    },
    {
      "cell_type": "code",
      "source": [
        "# get balances for all assets & some account information\n",
        "print(client.get_account())"
      ],
      "metadata": {
        "colab": {
          "base_uri": "https://localhost:8080/"
        },
        "id": "FDiSAMqSXuYr",
        "outputId": "a0ac933e-cd64-45dd-c45a-649b705ccb73"
      },
      "execution_count": null,
      "outputs": [
        {
          "output_type": "stream",
          "name": "stdout",
          "text": [
            "{'makerCommission': 0, 'takerCommission': 0, 'buyerCommission': 0, 'sellerCommission': 0, 'canTrade': True, 'canWithdraw': False, 'canDeposit': False, 'brokered': False, 'updateTime': 1666788334186, 'accountType': 'SPOT', 'balances': [{'asset': 'BNB', 'free': '1000.00000000', 'locked': '0.00000000'}, {'asset': 'BTC', 'free': '1.00000000', 'locked': '0.00000000'}, {'asset': 'BUSD', 'free': '10000.00000000', 'locked': '0.00000000'}, {'asset': 'ETH', 'free': '100.00000000', 'locked': '0.00000000'}, {'asset': 'LTC', 'free': '500.00000000', 'locked': '0.00000000'}, {'asset': 'TRX', 'free': '500000.00000000', 'locked': '0.00000000'}, {'asset': 'USDT', 'free': '10000.00000000', 'locked': '0.00000000'}, {'asset': 'XRP', 'free': '50000.00000000', 'locked': '0.00000000'}], 'permissions': ['SPOT']}\n"
          ]
        }
      ]
    },
    {
      "cell_type": "code",
      "source": [
        "# get latest price from Binance API\n",
        "client.get_symbol_ticker(symbol=\"BTCUSDT\")"
      ],
      "metadata": {
        "colab": {
          "base_uri": "https://localhost:8080/"
        },
        "id": "4MnKWQBiX5f5",
        "outputId": "af54ac4b-60fd-41ec-bc85-e546f768cb8a"
      },
      "execution_count": null,
      "outputs": [
        {
          "output_type": "execute_result",
          "data": {
            "text/plain": [
              "{'symbol': 'BTCUSDT', 'price': '20793.37000000'}"
            ]
          },
          "metadata": {},
          "execution_count": 9
        }
      ]
    },
    {
      "cell_type": "markdown",
      "source": [
        "The next step is to initialize the socket manager. When we do that, the library will create a new thread which we’ve started in the code snippet above. We need to pass through a symbol, which in this case is BTCUSDT. We also specify it to call our custom btc_trade_history function every time a new message comes in"
      ],
      "metadata": {
        "id": "P56aeLEMf0EE"
      }
    },
    {
      "cell_type": "code",
      "source": [
        "from time import sleep\n",
        "\n",
        "from binance import BinanceSocketManager"
      ],
      "metadata": {
        "id": "q1JoVXxtaItf"
      },
      "execution_count": null,
      "outputs": []
    },
    {
      "cell_type": "code",
      "source": [
        "btc_price = {'error':False}"
      ],
      "metadata": {
        "id": "ZocyR86pYyiT"
      },
      "execution_count": null,
      "outputs": []
    },
    {
      "cell_type": "code",
      "source": [
        "def btc_trade_history(msg):\n",
        "    ''' define how to process incoming WebSocket messages '''\n",
        "    if msg['e'] != 'error':\n",
        "      print(msg['c'])\n",
        "      btc_price['last'] = msg['c']\n",
        "      btc_price['bid'] = msg['b']\n",
        "      btc_price['last'] = msg['a']\n",
        "      btc_price['error'] = False\n",
        "    else:\n",
        "        btc_price['error'] = True"
      ],
      "metadata": {
        "id": "ibisjovraT5a"
      },
      "execution_count": null,
      "outputs": []
    },
    {
      "cell_type": "code",
      "source": [
        "client = Client(api_key, api_secret)\n",
        "bs = BinanceSocketManager(client)\n",
        "socket = bs.trade_socket('BTCUSDT')"
      ],
      "metadata": {
        "id": "-Dd3myEjaYHG"
      },
      "execution_count": null,
      "outputs": []
    },
    {
      "cell_type": "code",
      "source": [
        "# Creador: https://www.youtube.com/watch?v=rc_Y6rdBqXM\n",
        "x = 0\n",
        "while x != 10:\n",
        "  await socket.__aenter__()\n",
        "  msg = await socket.recv()\n",
        "  frame = createframe(msg)\n",
        "  x = x + 1\n",
        "  print(frame)"
      ],
      "metadata": {
        "colab": {
          "base_uri": "https://localhost:8080/"
        },
        "id": "3qQOoDp-ikry",
        "outputId": "29578ef6-7af3-4fec-f864-03eab446e3d7"
      },
      "execution_count": null,
      "outputs": [
        {
          "output_type": "stream",
          "name": "stdout",
          "text": [
            "    symbol                    Time     Price\n",
            "0  BTCUSDT 2022-10-26 14:34:00.873  20780.29\n",
            "    symbol                    Time     Price\n",
            "0  BTCUSDT 2022-10-26 14:34:00.890  20780.29\n",
            "    symbol                    Time     Price\n",
            "0  BTCUSDT 2022-10-26 14:34:00.909  20780.29\n",
            "    symbol                    Time     Price\n",
            "0  BTCUSDT 2022-10-26 14:34:00.909  20780.57\n",
            "    symbol                    Time     Price\n",
            "0  BTCUSDT 2022-10-26 14:34:00.935  20780.56\n",
            "    symbol                    Time     Price\n",
            "0  BTCUSDT 2022-10-26 14:34:00.962  20780.12\n",
            "    symbol                    Time     Price\n",
            "0  BTCUSDT 2022-10-26 14:34:00.964  20780.26\n",
            "    symbol                    Time     Price\n",
            "0  BTCUSDT 2022-10-26 14:34:00.974  20779.43\n",
            "    symbol                    Time     Price\n",
            "0  BTCUSDT 2022-10-26 14:34:01.044  20779.65\n",
            "    symbol                    Time     Price\n",
            "0  BTCUSDT 2022-10-26 14:34:01.080  20779.45\n"
          ]
        }
      ]
    },
    {
      "cell_type": "code",
      "source": [
        "import pandas as pd\n",
        "def createframe(msg):\n",
        "  df = pd.DataFrame([msg])\n",
        "  df = df.loc[:,['s','E','p']]\n",
        "  df.columns = ['symbol', 'Time', 'Price']\n",
        "  df.Price = df.Price.astype(float)\n",
        "  df.Time = pd.to_datetime(df.Time, unit = 'ms')\n",
        "  return df"
      ],
      "metadata": {
        "id": "jKwHQgVKqxm6"
      },
      "execution_count": null,
      "outputs": []
    },
    {
      "cell_type": "code",
      "source": [
        "createframe(msg)"
      ],
      "metadata": {
        "colab": {
          "base_uri": "https://localhost:8080/",
          "height": 81
        },
        "id": "U0eKP_w4rV63",
        "outputId": "2c1083f9-1830-4ab4-e997-59359b559d7a"
      },
      "execution_count": null,
      "outputs": [
        {
          "output_type": "execute_result",
          "data": {
            "text/plain": [
              "    symbol                    Time     Price\n",
              "0  BTCUSDT 2022-10-26 14:15:13.021  20760.11"
            ],
            "text/html": [
              "\n",
              "  <div id=\"df-c89c1d71-d5dd-40ee-b2aa-1bed4400785c\">\n",
              "    <div class=\"colab-df-container\">\n",
              "      <div>\n",
              "<style scoped>\n",
              "    .dataframe tbody tr th:only-of-type {\n",
              "        vertical-align: middle;\n",
              "    }\n",
              "\n",
              "    .dataframe tbody tr th {\n",
              "        vertical-align: top;\n",
              "    }\n",
              "\n",
              "    .dataframe thead th {\n",
              "        text-align: right;\n",
              "    }\n",
              "</style>\n",
              "<table border=\"1\" class=\"dataframe\">\n",
              "  <thead>\n",
              "    <tr style=\"text-align: right;\">\n",
              "      <th></th>\n",
              "      <th>symbol</th>\n",
              "      <th>Time</th>\n",
              "      <th>Price</th>\n",
              "    </tr>\n",
              "  </thead>\n",
              "  <tbody>\n",
              "    <tr>\n",
              "      <th>0</th>\n",
              "      <td>BTCUSDT</td>\n",
              "      <td>2022-10-26 14:15:13.021</td>\n",
              "      <td>20760.11</td>\n",
              "    </tr>\n",
              "  </tbody>\n",
              "</table>\n",
              "</div>\n",
              "      <button class=\"colab-df-convert\" onclick=\"convertToInteractive('df-c89c1d71-d5dd-40ee-b2aa-1bed4400785c')\"\n",
              "              title=\"Convert this dataframe to an interactive table.\"\n",
              "              style=\"display:none;\">\n",
              "        \n",
              "  <svg xmlns=\"http://www.w3.org/2000/svg\" height=\"24px\"viewBox=\"0 0 24 24\"\n",
              "       width=\"24px\">\n",
              "    <path d=\"M0 0h24v24H0V0z\" fill=\"none\"/>\n",
              "    <path d=\"M18.56 5.44l.94 2.06.94-2.06 2.06-.94-2.06-.94-.94-2.06-.94 2.06-2.06.94zm-11 1L8.5 8.5l.94-2.06 2.06-.94-2.06-.94L8.5 2.5l-.94 2.06-2.06.94zm10 10l.94 2.06.94-2.06 2.06-.94-2.06-.94-.94-2.06-.94 2.06-2.06.94z\"/><path d=\"M17.41 7.96l-1.37-1.37c-.4-.4-.92-.59-1.43-.59-.52 0-1.04.2-1.43.59L10.3 9.45l-7.72 7.72c-.78.78-.78 2.05 0 2.83L4 21.41c.39.39.9.59 1.41.59.51 0 1.02-.2 1.41-.59l7.78-7.78 2.81-2.81c.8-.78.8-2.07 0-2.86zM5.41 20L4 18.59l7.72-7.72 1.47 1.35L5.41 20z\"/>\n",
              "  </svg>\n",
              "      </button>\n",
              "      \n",
              "  <style>\n",
              "    .colab-df-container {\n",
              "      display:flex;\n",
              "      flex-wrap:wrap;\n",
              "      gap: 12px;\n",
              "    }\n",
              "\n",
              "    .colab-df-convert {\n",
              "      background-color: #E8F0FE;\n",
              "      border: none;\n",
              "      border-radius: 50%;\n",
              "      cursor: pointer;\n",
              "      display: none;\n",
              "      fill: #1967D2;\n",
              "      height: 32px;\n",
              "      padding: 0 0 0 0;\n",
              "      width: 32px;\n",
              "    }\n",
              "\n",
              "    .colab-df-convert:hover {\n",
              "      background-color: #E2EBFA;\n",
              "      box-shadow: 0px 1px 2px rgba(60, 64, 67, 0.3), 0px 1px 3px 1px rgba(60, 64, 67, 0.15);\n",
              "      fill: #174EA6;\n",
              "    }\n",
              "\n",
              "    [theme=dark] .colab-df-convert {\n",
              "      background-color: #3B4455;\n",
              "      fill: #D2E3FC;\n",
              "    }\n",
              "\n",
              "    [theme=dark] .colab-df-convert:hover {\n",
              "      background-color: #434B5C;\n",
              "      box-shadow: 0px 1px 3px 1px rgba(0, 0, 0, 0.15);\n",
              "      filter: drop-shadow(0px 1px 2px rgba(0, 0, 0, 0.3));\n",
              "      fill: #FFFFFF;\n",
              "    }\n",
              "  </style>\n",
              "\n",
              "      <script>\n",
              "        const buttonEl =\n",
              "          document.querySelector('#df-c89c1d71-d5dd-40ee-b2aa-1bed4400785c button.colab-df-convert');\n",
              "        buttonEl.style.display =\n",
              "          google.colab.kernel.accessAllowed ? 'block' : 'none';\n",
              "\n",
              "        async function convertToInteractive(key) {\n",
              "          const element = document.querySelector('#df-c89c1d71-d5dd-40ee-b2aa-1bed4400785c');\n",
              "          const dataTable =\n",
              "            await google.colab.kernel.invokeFunction('convertToInteractive',\n",
              "                                                     [key], {});\n",
              "          if (!dataTable) return;\n",
              "\n",
              "          const docLinkHtml = 'Like what you see? Visit the ' +\n",
              "            '<a target=\"_blank\" href=https://colab.research.google.com/notebooks/data_table.ipynb>data table notebook</a>'\n",
              "            + ' to learn more about interactive tables.';\n",
              "          element.innerHTML = '';\n",
              "          dataTable['output_type'] = 'display_data';\n",
              "          await google.colab.output.renderOutput(dataTable, element);\n",
              "          const docLink = document.createElement('div');\n",
              "          docLink.innerHTML = docLinkHtml;\n",
              "          element.appendChild(docLink);\n",
              "        }\n",
              "      </script>\n",
              "    </div>\n",
              "  </div>\n",
              "  "
            ]
          },
          "metadata": {},
          "execution_count": 80
        }
      ]
    },
    {
      "cell_type": "code",
      "source": [
        "# Create a sql and add certain information\n",
        "# import sqlalchemy\n",
        "# engine = sqlalchemy.create_engine('sqlite:///BTCUSDTstream.db')\n",
        "frame.to_sql('BTCUSDT', engine)"
      ],
      "metadata": {
        "id": "0r0jWNpIsR6v"
      },
      "execution_count": null,
      "outputs": []
    },
    {
      "cell_type": "code",
      "source": [
        "# subscribe to a stream\n",
        "ws.start_symbol_ticker_socket(callback=btc_trade_history, symbol='BTCUSDT')\n",
        "#Add another one\n",
        "# bsm.start_symbol_ticker_socket(callback=btc_trade_history, symbol='ETHUSDT')"
      ],
      "metadata": {
        "colab": {
          "base_uri": "https://localhost:8080/",
          "height": 226
        },
        "id": "9ZSA963Of1wb",
        "outputId": "fccde70b-2634-4449-d8eb-d47d6d7f85b5"
      },
      "execution_count": null,
      "outputs": [
        {
          "output_type": "error",
          "ename": "NameError",
          "evalue": "ignored",
          "traceback": [
            "\u001b[0;31m---------------------------------------------------------------------------\u001b[0m",
            "\u001b[0;31mNameError\u001b[0m                                 Traceback (most recent call last)",
            "\u001b[0;32m<ipython-input-30-fd8e9cb9713a>\u001b[0m in \u001b[0;36m<module>\u001b[0;34m\u001b[0m\n\u001b[1;32m      1\u001b[0m \u001b[0;31m# subscribe to a stream\u001b[0m\u001b[0;34m\u001b[0m\u001b[0;34m\u001b[0m\u001b[0;34m\u001b[0m\u001b[0m\n\u001b[0;32m----> 2\u001b[0;31m \u001b[0mws\u001b[0m\u001b[0;34m.\u001b[0m\u001b[0mstart_symbol_ticker_socket\u001b[0m\u001b[0;34m(\u001b[0m\u001b[0mcallback\u001b[0m\u001b[0;34m=\u001b[0m\u001b[0mbtc_trade_history\u001b[0m\u001b[0;34m,\u001b[0m \u001b[0msymbol\u001b[0m\u001b[0;34m=\u001b[0m\u001b[0;34m'BTCUSDT'\u001b[0m\u001b[0;34m)\u001b[0m\u001b[0;34m\u001b[0m\u001b[0;34m\u001b[0m\u001b[0m\n\u001b[0m\u001b[1;32m      3\u001b[0m \u001b[0;31m#Add another one\u001b[0m\u001b[0;34m\u001b[0m\u001b[0;34m\u001b[0m\u001b[0;34m\u001b[0m\u001b[0m\n\u001b[1;32m      4\u001b[0m \u001b[0;31m# bsm.start_symbol_ticker_socket(callback=btc_trade_history, symbol='ETHUSDT')\u001b[0m\u001b[0;34m\u001b[0m\u001b[0;34m\u001b[0m\u001b[0;34m\u001b[0m\u001b[0m\n",
            "\u001b[0;31mNameError\u001b[0m: name 'ws' is not defined"
          ]
        }
      ]
    },
    {
      "cell_type": "code",
      "source": [
        "# stop websocket\n",
        "ws.stop()"
      ],
      "metadata": {
        "id": "vPqTK-xfgNJ2"
      },
      "execution_count": null,
      "outputs": []
    },
    {
      "cell_type": "code",
      "source": [
        "########HISTORICAL DATA###########\n",
        "# valid intervals - 1m, 3m, 5m, 15m, 30m, 1h, 2h, 4h, 6h, 8h, 12h, 1d, 3d, 1w, 1M\n",
        "\n",
        "# get timestamp of earliest date data is available\n",
        "timestamp = client._get_earliest_valid_timestamp('BTCUSDT', '1d')\n",
        "print(timestamp)"
      ],
      "metadata": {
        "colab": {
          "base_uri": "https://localhost:8080/"
        },
        "id": "kpjfylJBg6co",
        "outputId": "cc79897b-4b9d-4229-b3e0-eee2089e89f3"
      },
      "execution_count": null,
      "outputs": [
        {
          "output_type": "stream",
          "name": "stdout",
          "text": [
            "1664928000000\n"
          ]
        }
      ]
    },
    {
      "cell_type": "code",
      "source": [
        "# request historical candle (or klines) data\n",
        "bars = client.get_historical_klines('BTCUSDT', '1d', timestamp, limit=1000)\n",
        "print(bars)"
      ],
      "metadata": {
        "colab": {
          "base_uri": "https://localhost:8080/"
        },
        "id": "54_ivwx2jxUf",
        "outputId": "4a2d9905-1374-4918-a158-020341d0f0d2"
      },
      "execution_count": null,
      "outputs": [
        {
          "output_type": "stream",
          "name": "stdout",
          "text": [
            "[[1664928000000, '20087.49000000', '25000.00000000', '10000.00000000', '20158.20000000', '4568.13982700', 1665014399999, '91696644.27054668', 88593, '2838.23406400', '56975222.46145802', '0'], [1665014400000, '20158.45000000', '21050.94000000', '5045.53000000', '19962.39000000', '10220.49264700', 1665100799999, '205902493.11437532', 197665, '6283.14353600', '126627616.70047324', '0'], [1665100800000, '19962.39000000', '21182.55000000', '4031.00000000', '19530.59000000', '8620.59442700', 1665187199999, '170355357.58724846', 158407, '5364.24803500', '106039435.34037074', '0'], [1665187200000, '19530.28000000', '50000.00000000', '15000.00000000', '19417.64000000', '7651.95253500', 1665273599999, '149166687.81384724', 152866, '4907.22836400', '95683259.75513835', '0'], [1665273600000, '19417.91000000', '22266.00000000', '19192.25000000', '19441.55000000', '7220.22349700', 1665359999999, '140373161.84493830', 150097, '4507.66387400', '87633770.97962301', '0'], [1665360000000, '19441.55000000', '19682.77000000', '18854.22000000', '19130.62000000', '8165.60487600', 1665446399999, '157771278.96244427', 163755, '5119.48566500', '98913821.92101916', '0'], [1665446400000, '19130.62000000', '25000.00000000', '18229.73000000', '19059.97000000', '8468.77448000', 1665532799999, '161531785.21984474', 176164, '5412.99674400', '103261284.07167211', '0'], [1665532800000, '19060.09000000', '19580.92000000', '18553.64000000', '19156.24000000', '8152.60712300', 1665619199999, '155857823.06862708', 173557, '5262.03827700', '100601654.04956052', '0'], [1665619200000, '19154.97000000', '20073.96000000', '17874.02000000', '19375.42000000', '10251.89398100', 1665705599999, '194721094.79253039', 213941, '6656.60110000', '126400645.11515836', '0'], [1665705600000, '19378.66000000', '20404.58000000', '17648.35000000', '19179.74000000', '9230.28465200', 1665791999999, '180258410.08690998', 215349, '5918.21419300', '115619298.20880660', '0'], [1665792000000, '19179.74000000', '90000.40000000', '16959.33000000', '19068.37000000', '8481.17150900', 1665878399999, '162359533.74373757', 214381, '5453.82873700', '104434467.69170803', '0'], [1665878400000, '19068.72000000', '38597.85000000', '16507.73000000', '19262.75000000', '8205.67703400', 1665964799999, '157268911.02075139', 193450, '5372.76177200', '102988328.07729823', '0'], [1665964800000, '19262.75000000', '50000.00000000', '5000.00000000', '19549.03000000', '9208.14383600', 1666051199999, '178577397.24071852', 199603, '6057.20230000', '117491175.24210411', '0'], [1666051200000, '19548.92000000', '50000.00000000', '16893.09000000', '19328.80000000', '8743.95609900', 1666137599999, '170292682.04544060', 186414, '5764.88859800', '112278602.45369558', '0'], [1666137600000, '19328.43000000', '19356.62000000', '10000.00000000', '19123.55000000', '7958.38856700', 1666223999999, '152884699.66223038', 168694, '5137.57095100', '98691368.40314192', '0'], [1666224000000, '19123.82000000', '19497.09000000', '9507.83000000', '19042.49000000', '8556.70515000', 1666310399999, '163619120.18987887', 164696, '5514.20833100', '105452273.36408987', '0'], [1666310400000, '19042.94000000', '90000.00000000', '15234.18000000', '19161.98000000', '8242.51127900', 1666396799999, '157092334.98899807', 260255, '5428.09000400', '103468383.41160859', '0'], [1666396800000, '19161.63000000', '60000.00000000', '9600.55000000', '19204.66000000', '6079.37698800', 1666483199999, '116587300.51189981', 100783, '3982.46279400', '76381582.86894196', '0'], [1666483200000, '19204.14000000', '20179.24000000', '19073.15000000', '19570.47000000', '6666.86286600', 1666569599999, '128593679.81942822', 120416, '4424.22742800', '85342026.39613721', '0'], [1666569600000, '19570.45000000', '19626.64000000', '18822.58000000', '19330.13000000', '7995.08586800', 1666655999999, '154726865.16642725', 166029, '5172.24395100', '100097027.69767232', '0'], [1666656000000, '19330.13000000', '20409.52000000', '18697.45000000', '20080.46000000', '8415.28050300', 1666742399999, '165214191.96312305', 183953, '5605.25445700', '110044176.74685211', '0'], [1666742400000, '20080.46000000', '20778.83000000', '19894.47000000', '20579.69000000', '5148.83222000', 1666828799999, '104876008.51680022', 136665, '3477.95053500', '70849543.67071083', '0']]\n"
          ]
        }
      ]
    },
    {
      "cell_type": "code",
      "source": [
        "import csv\n",
        "with open('btc_bars.csv', 'w', newline='') as f:\n",
        "\twr = csv.writer(f)\n",
        "\tfor line in bars:\n",
        "\t\twr.writerow(line)"
      ],
      "metadata": {
        "id": "6DI7AwHujx6K"
      },
      "execution_count": null,
      "outputs": []
    },
    {
      "cell_type": "code",
      "source": [],
      "metadata": {
        "id": "nVkCmrDjkudT"
      },
      "execution_count": null,
      "outputs": []
    }
  ]
}