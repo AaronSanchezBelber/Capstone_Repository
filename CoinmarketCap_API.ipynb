{
  "nbformat": 4,
  "nbformat_minor": 0,
  "metadata": {
    "colab": {
      "provenance": [],
      "collapsed_sections": [],
      "authorship_tag": "ABX9TyOOEycXLPk/FGm911zY1TOE",
      "include_colab_link": true
    },
    "kernelspec": {
      "name": "python3",
      "display_name": "Python 3"
    },
    "language_info": {
      "name": "python"
    }
  },
  "cells": [
    {
      "cell_type": "markdown",
      "metadata": {
        "id": "view-in-github",
        "colab_type": "text"
      },
      "source": [
        "<a href=\"https://colab.research.google.com/github/AaronSanchezBelber/Capstone_Repository/blob/master/CoinmarketCap_API.ipynb\" target=\"_parent\"><img src=\"https://colab.research.google.com/assets/colab-badge.svg\" alt=\"Open In Colab\"/></a>"
      ]
    },
    {
      "cell_type": "code",
      "execution_count": null,
      "metadata": {
        "colab": {
          "base_uri": "https://localhost:8080/"
        },
        "id": "SrXHJLv8d804",
        "outputId": "be6e0f0a-aef7-4f45-8deb-4e6da8c2fc39"
      },
      "outputs": [
        {
          "output_type": "stream",
          "name": "stdout",
          "text": [
            "Looking in indexes: https://pypi.org/simple, https://us-python.pkg.dev/colab-wheels/public/simple/\n",
            "Collecting python-coinmarketcap\n",
            "  Downloading python_coinmarketcap-0.5-py3-none-any.whl (10 kB)\n",
            "Requirement already satisfied: requests>=2.2.0 in /usr/local/lib/python3.7/dist-packages (from python-coinmarketcap) (2.23.0)\n",
            "Requirement already satisfied: idna<3,>=2.5 in /usr/local/lib/python3.7/dist-packages (from requests>=2.2.0->python-coinmarketcap) (2.10)\n",
            "Requirement already satisfied: urllib3!=1.25.0,!=1.25.1,<1.26,>=1.21.1 in /usr/local/lib/python3.7/dist-packages (from requests>=2.2.0->python-coinmarketcap) (1.24.3)\n",
            "Requirement already satisfied: certifi>=2017.4.17 in /usr/local/lib/python3.7/dist-packages (from requests>=2.2.0->python-coinmarketcap) (2022.9.24)\n",
            "Requirement already satisfied: chardet<4,>=3.0.2 in /usr/local/lib/python3.7/dist-packages (from requests>=2.2.0->python-coinmarketcap) (3.0.4)\n",
            "Installing collected packages: python-coinmarketcap\n",
            "Successfully installed python-coinmarketcap-0.5\n"
          ]
        }
      ],
      "source": [
        "pip install python-coinmarketcap"
      ]
    },
    {
      "cell_type": "code",
      "source": [
        "import coinmarketcapapi as cn\n",
        "import pandas as pd\n",
        "cmc = cn.CoinMarketCapAPI('179d8cfb-5869-47fb-b8cf-09746c08a4a0')"
      ],
      "metadata": {
        "id": "qL6Cn-VefVR9"
      },
      "execution_count": null,
      "outputs": []
    },
    {
      "cell_type": "code",
      "source": [
        "btc_info = cmc.cryptocurrency_info(symbol='BTC')\n",
        "print(btc_info)"
      ],
      "metadata": {
        "colab": {
          "base_uri": "https://localhost:8080/"
        },
        "id": "pp1MY7Wcfhxj",
        "outputId": "3e821b8b-0399-4a65-bee9-d4d0d534d8c2"
      },
      "execution_count": null,
      "outputs": [
        {
          "output_type": "stream",
          "name": "stdout",
          "text": [
            "RESPONSE: 244ms OK: {'BTC': [{'id': 1, 'name': 'Bitcoin', 'symbol': 'BTC', 'category': 'coin', 'description': 'Bitcoin (BTC) is a cryptocurrency . Users are able to generate BTC through the process of mining. Bitcoin has a current supply of 19,202,812. The last known price of Bitcoin is 17,025.97980383 USD and is down -14.32 over the last 24 hours. It is currently trading on 9829 active market(s) with $122,205,074,344.27 traded over the last 24 hours. More information can be found at https://bitcoin.org/.', 'slug': 'bitcoin', 'logo': 'https://s2.coinmarketcap.com/static/img/coins/64x64/1.png', 'subreddit': 'bitcoin', 'notice': '', 'tags': ['mineable', 'pow', 'sha-256', 'store-of-value', 'state-channel', 'coinbase-ventures-portfolio', 'three-arrows-capital-portfolio', 'polychain-capital-portfolio', 'binance-labs-portfolio', 'blockchain-capital-portfolio', 'boostvc-portfolio', 'cms-holdings-portfolio', 'dcg-portfolio', 'dragonfly-capital-portfolio', 'electric-capital-portfolio', 'fabric-ventures-portfolio', 'framework-ventures-portfolio', 'galaxy-digital-portfolio', 'huobi-capital-portfolio', 'alameda-research-portfolio', 'a16z-portfolio', '1confirmation-portfolio', 'winklevoss-capital-portfolio', 'usv-portfolio', 'placeholder-ventures-portfolio', 'pantera-capital-portfolio', 'multicoin-capital-portfolio', 'paradigm-portfolio'], 'tag-names': ['Mineable', 'PoW', 'SHA-256', 'Store Of Value', 'State Channel', 'Coinbase Ventures Portfolio', 'Three Arrows Capital Portfolio', 'Polychain Capital Portfolio', 'Binance Labs Portfolio', 'Blockchain Capital Portfolio', 'BoostVC Portfolio', 'CMS Holdings Portfolio', 'DCG Portfolio', 'DragonFly Capital Portfolio', 'Electric Capital Portfolio', 'Fabric Ventures Portfolio', 'Framework Ventures Portfolio', 'Galaxy Digital Portfolio', 'Huobi Capital Portfolio', 'Alameda Research Portfolio', 'a16z Portfolio', '1Confirmation Portfolio', 'Winklevoss Capital Portfolio', 'USV Portfolio', 'Placeholder Ventures Portfolio', 'Pantera Capital Portfolio', 'Multicoin Capital Portfolio', 'Paradigm Portfolio'], 'tag-groups': ['OTHERS', 'ALGORITHM', 'ALGORITHM', 'CATEGORY', 'CATEGORY', 'CATEGORY', 'CATEGORY', 'CATEGORY', 'CATEGORY', 'CATEGORY', 'CATEGORY', 'CATEGORY', 'CATEGORY', 'CATEGORY', 'CATEGORY', 'CATEGORY', 'CATEGORY', 'CATEGORY', 'CATEGORY', 'CATEGORY', 'CATEGORY', 'CATEGORY', 'CATEGORY', 'CATEGORY', 'CATEGORY', 'CATEGORY', 'CATEGORY', 'CATEGORY'], 'urls': {'website': ['https://bitcoin.org/'], 'twitter': [], 'message_board': ['https://bitcointalk.org'], 'chat': [], 'facebook': [], 'explorer': ['https://blockchain.coinmarketcap.com/chain/bitcoin', 'https://blockchain.info/', 'https://live.blockcypher.com/btc/', 'https://blockchair.com/bitcoin', 'https://explorer.viabtc.com/btc'], 'reddit': ['https://reddit.com/r/bitcoin'], 'technical_doc': ['https://bitcoin.org/bitcoin.pdf'], 'source_code': ['https://github.com/bitcoin/bitcoin'], 'announcement': []}, 'platform': None, 'date_added': '2013-04-28T00:00:00.000Z', 'twitter_username': '', 'is_hidden': 0, 'date_launched': None, 'contract_address': [], 'self_reported_circulating_supply': None, 'self_reported_tags': None, 'self_reported_market_cap': None}]}\n"
          ]
        }
      ]
    },
    {
      "cell_type": "code",
      "source": [
        "df_btc = pd.DataFrame.from_dict(btc_info.data)"
      ],
      "metadata": {
        "id": "fxsSih7EkWFf"
      },
      "execution_count": null,
      "outputs": []
    },
    {
      "cell_type": "code",
      "source": [
        "df_btc"
      ],
      "metadata": {
        "colab": {
          "base_uri": "https://localhost:8080/"
        },
        "id": "BVM_LO3HkfUt",
        "outputId": "c3a22540-21c9-4bf5-dec2-f556c2f81a9a"
      },
      "execution_count": null,
      "outputs": [
        {
          "output_type": "execute_result",
          "data": {
            "text/plain": [
              "pandas.core.frame.DataFrame"
            ]
          },
          "metadata": {},
          "execution_count": 52
        }
      ]
    },
    {
      "cell_type": "code",
      "source": [
        "mapa = cmc.cryptocurrency_map()"
      ],
      "metadata": {
        "id": "wkilDt22hKLM"
      },
      "execution_count": null,
      "outputs": []
    },
    {
      "cell_type": "code",
      "source": [
        "df_mapa = pd.DataFrame(mapa.data)"
      ],
      "metadata": {
        "id": "R1flTqtEjxWn"
      },
      "execution_count": null,
      "outputs": []
    },
    {
      "cell_type": "code",
      "source": [
        "df_mapa"
      ],
      "metadata": {
        "colab": {
          "base_uri": "https://localhost:8080/",
          "height": 641
        },
        "id": "TPxNkeLVi96W",
        "outputId": "216fcb5c-b8c0-4175-a7ca-a138e1db07e7"
      },
      "execution_count": null,
      "outputs": [
        {
          "output_type": "execute_result",
          "data": {
            "text/plain": [
              "         id                name  symbol                slug  rank  displayTV  \\\n",
              "0         1             Bitcoin     BTC             bitcoin     1          1   \n",
              "1         2            Litecoin     LTC            litecoin    19          1   \n",
              "2         3            Namecoin     NMC            namecoin   610          1   \n",
              "3         4           Terracoin     TRC           terracoin  1686          1   \n",
              "4         5            Peercoin     PPC            peercoin   646          1   \n",
              "...     ...                 ...     ...                 ...   ...        ...   \n",
              "9251  22609                Fish    FISH                fish  5024          1   \n",
              "9252  22612               Trice     TRI               trice  3009          1   \n",
              "9253  22613         Pegasus PoW    $PGS         pegasus-pow  4788          1   \n",
              "9254  22614     Mafia World Cup     MWC     mafia-world-cup  3660          1   \n",
              "9255  22617  THANKSGIVING FLOKI  TFLOKI  thanksgiving-floki  3706          1   \n",
              "\n",
              "      is_active     first_historical_data      last_historical_data  \\\n",
              "0             1  2013-04-28T18:47:21.000Z  2022-11-09T17:59:00.000Z   \n",
              "1             1  2013-04-28T18:47:22.000Z  2022-11-09T17:59:00.000Z   \n",
              "2             1  2013-04-28T18:47:22.000Z  2022-11-09T17:59:00.000Z   \n",
              "3             1  2013-04-28T18:47:22.000Z  2022-11-09T17:59:00.000Z   \n",
              "4             1  2013-04-28T18:47:23.000Z  2022-11-09T17:59:00.000Z   \n",
              "...         ...                       ...                       ...   \n",
              "9251          1  2022-11-08T16:40:00.000Z  2022-11-09T17:55:00.000Z   \n",
              "9252          1  2022-11-09T04:40:00.000Z  2022-11-09T17:55:00.000Z   \n",
              "9253          1  2022-11-09T05:01:00.000Z  2022-11-09T17:56:00.000Z   \n",
              "9254          1  2022-11-09T13:27:00.000Z  2022-11-09T17:57:00.000Z   \n",
              "9255          1  2022-11-09T16:40:00.000Z  2022-11-09T17:55:00.000Z   \n",
              "\n",
              "                                               platform  \n",
              "0                                                  None  \n",
              "1                                                  None  \n",
              "2                                                  None  \n",
              "3                                                  None  \n",
              "4                                                  None  \n",
              "...                                                 ...  \n",
              "9251  {'id': 1839, 'name': 'BNB', 'symbol': 'BNB', '...  \n",
              "9252                                               None  \n",
              "9253                                               None  \n",
              "9254  {'id': 1839, 'name': 'BNB', 'symbol': 'BNB', '...  \n",
              "9255  {'id': 1839, 'name': 'BNB', 'symbol': 'BNB', '...  \n",
              "\n",
              "[9256 rows x 10 columns]"
            ],
            "text/html": [
              "\n",
              "  <div id=\"df-26a5dac8-8154-4782-9908-7c2b7483c8d7\">\n",
              "    <div class=\"colab-df-container\">\n",
              "      <div>\n",
              "<style scoped>\n",
              "    .dataframe tbody tr th:only-of-type {\n",
              "        vertical-align: middle;\n",
              "    }\n",
              "\n",
              "    .dataframe tbody tr th {\n",
              "        vertical-align: top;\n",
              "    }\n",
              "\n",
              "    .dataframe thead th {\n",
              "        text-align: right;\n",
              "    }\n",
              "</style>\n",
              "<table border=\"1\" class=\"dataframe\">\n",
              "  <thead>\n",
              "    <tr style=\"text-align: right;\">\n",
              "      <th></th>\n",
              "      <th>id</th>\n",
              "      <th>name</th>\n",
              "      <th>symbol</th>\n",
              "      <th>slug</th>\n",
              "      <th>rank</th>\n",
              "      <th>displayTV</th>\n",
              "      <th>is_active</th>\n",
              "      <th>first_historical_data</th>\n",
              "      <th>last_historical_data</th>\n",
              "      <th>platform</th>\n",
              "    </tr>\n",
              "  </thead>\n",
              "  <tbody>\n",
              "    <tr>\n",
              "      <th>0</th>\n",
              "      <td>1</td>\n",
              "      <td>Bitcoin</td>\n",
              "      <td>BTC</td>\n",
              "      <td>bitcoin</td>\n",
              "      <td>1</td>\n",
              "      <td>1</td>\n",
              "      <td>1</td>\n",
              "      <td>2013-04-28T18:47:21.000Z</td>\n",
              "      <td>2022-11-09T17:59:00.000Z</td>\n",
              "      <td>None</td>\n",
              "    </tr>\n",
              "    <tr>\n",
              "      <th>1</th>\n",
              "      <td>2</td>\n",
              "      <td>Litecoin</td>\n",
              "      <td>LTC</td>\n",
              "      <td>litecoin</td>\n",
              "      <td>19</td>\n",
              "      <td>1</td>\n",
              "      <td>1</td>\n",
              "      <td>2013-04-28T18:47:22.000Z</td>\n",
              "      <td>2022-11-09T17:59:00.000Z</td>\n",
              "      <td>None</td>\n",
              "    </tr>\n",
              "    <tr>\n",
              "      <th>2</th>\n",
              "      <td>3</td>\n",
              "      <td>Namecoin</td>\n",
              "      <td>NMC</td>\n",
              "      <td>namecoin</td>\n",
              "      <td>610</td>\n",
              "      <td>1</td>\n",
              "      <td>1</td>\n",
              "      <td>2013-04-28T18:47:22.000Z</td>\n",
              "      <td>2022-11-09T17:59:00.000Z</td>\n",
              "      <td>None</td>\n",
              "    </tr>\n",
              "    <tr>\n",
              "      <th>3</th>\n",
              "      <td>4</td>\n",
              "      <td>Terracoin</td>\n",
              "      <td>TRC</td>\n",
              "      <td>terracoin</td>\n",
              "      <td>1686</td>\n",
              "      <td>1</td>\n",
              "      <td>1</td>\n",
              "      <td>2013-04-28T18:47:22.000Z</td>\n",
              "      <td>2022-11-09T17:59:00.000Z</td>\n",
              "      <td>None</td>\n",
              "    </tr>\n",
              "    <tr>\n",
              "      <th>4</th>\n",
              "      <td>5</td>\n",
              "      <td>Peercoin</td>\n",
              "      <td>PPC</td>\n",
              "      <td>peercoin</td>\n",
              "      <td>646</td>\n",
              "      <td>1</td>\n",
              "      <td>1</td>\n",
              "      <td>2013-04-28T18:47:23.000Z</td>\n",
              "      <td>2022-11-09T17:59:00.000Z</td>\n",
              "      <td>None</td>\n",
              "    </tr>\n",
              "    <tr>\n",
              "      <th>...</th>\n",
              "      <td>...</td>\n",
              "      <td>...</td>\n",
              "      <td>...</td>\n",
              "      <td>...</td>\n",
              "      <td>...</td>\n",
              "      <td>...</td>\n",
              "      <td>...</td>\n",
              "      <td>...</td>\n",
              "      <td>...</td>\n",
              "      <td>...</td>\n",
              "    </tr>\n",
              "    <tr>\n",
              "      <th>9251</th>\n",
              "      <td>22609</td>\n",
              "      <td>Fish</td>\n",
              "      <td>FISH</td>\n",
              "      <td>fish</td>\n",
              "      <td>5024</td>\n",
              "      <td>1</td>\n",
              "      <td>1</td>\n",
              "      <td>2022-11-08T16:40:00.000Z</td>\n",
              "      <td>2022-11-09T17:55:00.000Z</td>\n",
              "      <td>{'id': 1839, 'name': 'BNB', 'symbol': 'BNB', '...</td>\n",
              "    </tr>\n",
              "    <tr>\n",
              "      <th>9252</th>\n",
              "      <td>22612</td>\n",
              "      <td>Trice</td>\n",
              "      <td>TRI</td>\n",
              "      <td>trice</td>\n",
              "      <td>3009</td>\n",
              "      <td>1</td>\n",
              "      <td>1</td>\n",
              "      <td>2022-11-09T04:40:00.000Z</td>\n",
              "      <td>2022-11-09T17:55:00.000Z</td>\n",
              "      <td>None</td>\n",
              "    </tr>\n",
              "    <tr>\n",
              "      <th>9253</th>\n",
              "      <td>22613</td>\n",
              "      <td>Pegasus PoW</td>\n",
              "      <td>$PGS</td>\n",
              "      <td>pegasus-pow</td>\n",
              "      <td>4788</td>\n",
              "      <td>1</td>\n",
              "      <td>1</td>\n",
              "      <td>2022-11-09T05:01:00.000Z</td>\n",
              "      <td>2022-11-09T17:56:00.000Z</td>\n",
              "      <td>None</td>\n",
              "    </tr>\n",
              "    <tr>\n",
              "      <th>9254</th>\n",
              "      <td>22614</td>\n",
              "      <td>Mafia World Cup</td>\n",
              "      <td>MWC</td>\n",
              "      <td>mafia-world-cup</td>\n",
              "      <td>3660</td>\n",
              "      <td>1</td>\n",
              "      <td>1</td>\n",
              "      <td>2022-11-09T13:27:00.000Z</td>\n",
              "      <td>2022-11-09T17:57:00.000Z</td>\n",
              "      <td>{'id': 1839, 'name': 'BNB', 'symbol': 'BNB', '...</td>\n",
              "    </tr>\n",
              "    <tr>\n",
              "      <th>9255</th>\n",
              "      <td>22617</td>\n",
              "      <td>THANKSGIVING FLOKI</td>\n",
              "      <td>TFLOKI</td>\n",
              "      <td>thanksgiving-floki</td>\n",
              "      <td>3706</td>\n",
              "      <td>1</td>\n",
              "      <td>1</td>\n",
              "      <td>2022-11-09T16:40:00.000Z</td>\n",
              "      <td>2022-11-09T17:55:00.000Z</td>\n",
              "      <td>{'id': 1839, 'name': 'BNB', 'symbol': 'BNB', '...</td>\n",
              "    </tr>\n",
              "  </tbody>\n",
              "</table>\n",
              "<p>9256 rows × 10 columns</p>\n",
              "</div>\n",
              "      <button class=\"colab-df-convert\" onclick=\"convertToInteractive('df-26a5dac8-8154-4782-9908-7c2b7483c8d7')\"\n",
              "              title=\"Convert this dataframe to an interactive table.\"\n",
              "              style=\"display:none;\">\n",
              "        \n",
              "  <svg xmlns=\"http://www.w3.org/2000/svg\" height=\"24px\"viewBox=\"0 0 24 24\"\n",
              "       width=\"24px\">\n",
              "    <path d=\"M0 0h24v24H0V0z\" fill=\"none\"/>\n",
              "    <path d=\"M18.56 5.44l.94 2.06.94-2.06 2.06-.94-2.06-.94-.94-2.06-.94 2.06-2.06.94zm-11 1L8.5 8.5l.94-2.06 2.06-.94-2.06-.94L8.5 2.5l-.94 2.06-2.06.94zm10 10l.94 2.06.94-2.06 2.06-.94-2.06-.94-.94-2.06-.94 2.06-2.06.94z\"/><path d=\"M17.41 7.96l-1.37-1.37c-.4-.4-.92-.59-1.43-.59-.52 0-1.04.2-1.43.59L10.3 9.45l-7.72 7.72c-.78.78-.78 2.05 0 2.83L4 21.41c.39.39.9.59 1.41.59.51 0 1.02-.2 1.41-.59l7.78-7.78 2.81-2.81c.8-.78.8-2.07 0-2.86zM5.41 20L4 18.59l7.72-7.72 1.47 1.35L5.41 20z\"/>\n",
              "  </svg>\n",
              "      </button>\n",
              "      \n",
              "  <style>\n",
              "    .colab-df-container {\n",
              "      display:flex;\n",
              "      flex-wrap:wrap;\n",
              "      gap: 12px;\n",
              "    }\n",
              "\n",
              "    .colab-df-convert {\n",
              "      background-color: #E8F0FE;\n",
              "      border: none;\n",
              "      border-radius: 50%;\n",
              "      cursor: pointer;\n",
              "      display: none;\n",
              "      fill: #1967D2;\n",
              "      height: 32px;\n",
              "      padding: 0 0 0 0;\n",
              "      width: 32px;\n",
              "    }\n",
              "\n",
              "    .colab-df-convert:hover {\n",
              "      background-color: #E2EBFA;\n",
              "      box-shadow: 0px 1px 2px rgba(60, 64, 67, 0.3), 0px 1px 3px 1px rgba(60, 64, 67, 0.15);\n",
              "      fill: #174EA6;\n",
              "    }\n",
              "\n",
              "    [theme=dark] .colab-df-convert {\n",
              "      background-color: #3B4455;\n",
              "      fill: #D2E3FC;\n",
              "    }\n",
              "\n",
              "    [theme=dark] .colab-df-convert:hover {\n",
              "      background-color: #434B5C;\n",
              "      box-shadow: 0px 1px 3px 1px rgba(0, 0, 0, 0.15);\n",
              "      filter: drop-shadow(0px 1px 2px rgba(0, 0, 0, 0.3));\n",
              "      fill: #FFFFFF;\n",
              "    }\n",
              "  </style>\n",
              "\n",
              "      <script>\n",
              "        const buttonEl =\n",
              "          document.querySelector('#df-26a5dac8-8154-4782-9908-7c2b7483c8d7 button.colab-df-convert');\n",
              "        buttonEl.style.display =\n",
              "          google.colab.kernel.accessAllowed ? 'block' : 'none';\n",
              "\n",
              "        async function convertToInteractive(key) {\n",
              "          const element = document.querySelector('#df-26a5dac8-8154-4782-9908-7c2b7483c8d7');\n",
              "          const dataTable =\n",
              "            await google.colab.kernel.invokeFunction('convertToInteractive',\n",
              "                                                     [key], {});\n",
              "          if (!dataTable) return;\n",
              "\n",
              "          const docLinkHtml = 'Like what you see? Visit the ' +\n",
              "            '<a target=\"_blank\" href=https://colab.research.google.com/notebooks/data_table.ipynb>data table notebook</a>'\n",
              "            + ' to learn more about interactive tables.';\n",
              "          element.innerHTML = '';\n",
              "          dataTable['output_type'] = 'display_data';\n",
              "          await google.colab.output.renderOutput(dataTable, element);\n",
              "          const docLink = document.createElement('div');\n",
              "          docLink.innerHTML = docLinkHtml;\n",
              "          element.appendChild(docLink);\n",
              "        }\n",
              "      </script>\n",
              "    </div>\n",
              "  </div>\n",
              "  "
            ]
          },
          "metadata": {},
          "execution_count": 46
        }
      ]
    }
  ]
}